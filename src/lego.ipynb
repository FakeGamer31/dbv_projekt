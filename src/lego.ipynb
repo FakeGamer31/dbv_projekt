{
 "cells": [
  {
   "cell_type": "code",
   "execution_count": 177,
   "metadata": {},
   "outputs": [],
   "source": [
    "import cv2\n",
    "import numpy as np\n",
    "from matplotlib import pyplot as plt"
   ]
  },
  {
   "cell_type": "code",
   "execution_count": null,
   "metadata": {},
   "outputs": [],
   "source": [
    "# Bild laden\n",
    "image = cv2.imread('../images/image.jpg')\n",
    "\n",
    "plt.imshow(image[...,::-1], cmap='gray')\n",
    "plt.title('Lego Detec')\n",
    "plt.axis('off')"
   ]
  },
  {
   "cell_type": "code",
   "execution_count": null,
   "metadata": {},
   "outputs": [],
   "source": [
    "color_ranges = {\n",
    "    'blue': (np.array([100, 50, 50]), np.array([130, 255, 255])),\n",
    "    'green': (np.array([30, 50, 50]), np.array([80, 255, 255])),\n",
    "}\n",
    "\n",
    "mask = cv2.inRange(cv2.cvtColor(image, cv2.COLOR_BGR2HSV), lower_green, upper_green)\n",
    "plt.imshow(mask, cmap='gray')\n",
    "plt.title('mask')\n",
    "plt.axis('off')"
   ]
  },
  {
   "cell_type": "code",
   "execution_count": null,
   "metadata": {},
   "outputs": [],
   "source": [
    "blurred_image = cv2.GaussianBlur(mask, (5, 5), 0)\n",
    "plt.imshow(blurred_image[...,::-1], cmap='gray')\n",
    "plt.title('blurred_image')\n",
    "plt.axis('off')"
   ]
  },
  {
   "cell_type": "code",
   "execution_count": null,
   "metadata": {},
   "outputs": [],
   "source": [
    "# Kantenerkennung\n",
    "edges = cv2.Canny(blurred_image, 50, 150)\n",
    "plt.imshow(edges[...,::-1], cmap='gray')\n",
    "plt.title('edges')\n",
    "plt.axis('off')\n",
    "# Konturfindung\n",
    "contours, _ = cv2.findContours(edges, cv2.RETR_EXTERNAL, cv2.CHAIN_APPROX_NONE)\n",
    "print(\"Anzahl der Konturen:\", len(contours))"
   ]
  },
  {
   "cell_type": "code",
   "execution_count": null,
   "metadata": {},
   "outputs": [],
   "source": [
    "# Objekterkennung und Markierung\n",
    "for contour in contours:\n",
    "    area = cv2.contourArea(contour)\n",
    "    print(area)\n",
    "    if area > 100:  # Beispielgrenze für die Mindestgröße der Kontur\n",
    "        x, y, w, h = cv2.boundingRect(contour)\n",
    "        mean_color = cv2.mean(image, mask=mask)\n",
    "        cv2.rectangle(image, (x, y), (x + w, y + h), (180, 255, 50), 2)\n",
    "        cv2.putText(image, color, (x, y - 10), cv2.FONT_HERSHEY_SIMPLEX, 0.5, mean_color, 2, cv2.LINE_AA)\n",
    "# Bild anzeigen\n",
    "plt.imshow(image[...,::-1], cmap='gray')\n",
    "plt.title('Lego Detec')\n",
    "plt.axis('off')"
   ]
  }
 ],
 "metadata": {
  "kernelspec": {
   "display_name": ".venv",
   "language": "python",
   "name": "python3"
  },
  "language_info": {
   "codemirror_mode": {
    "name": "ipython",
    "version": 3
   },
   "file_extension": ".py",
   "mimetype": "text/x-python",
   "name": "python",
   "nbconvert_exporter": "python",
   "pygments_lexer": "ipython3",
   "version": "3.12.0"
  }
 },
 "nbformat": 4,
 "nbformat_minor": 2
}
